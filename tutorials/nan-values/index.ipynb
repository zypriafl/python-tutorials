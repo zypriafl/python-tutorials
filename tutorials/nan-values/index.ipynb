{
 "cells": [
  {
   "cell_type": "markdown",
   "id": "8c53eac7",
   "metadata": {},
   "source": [
    "# NaN Values\n",
    "\n",
    "## Introduction\n",
    "NaN (Not a Number) values are ubiquitous in data science, often used to represent missing or undefined data.\n",
    "In this tutorial, we will learn how to handle NaN values in Python using numpy and pandas libraries.\n",
    "\n",
    "```{contents} Table of Contents\n",
    ":depth: 3\n",
    "```\n",
    "\n",
    "## Prerequisites\n",
    "Basic Python knowledge, basic understanding of numpy and pandas libraries. Make sure you have numpy and pandas installed in your Python environment.\n",
    "\n",
    "## Importing Necessary Libraries\n",
    "Let's start by importing necessary libraries."
   ]
  },
  {
   "cell_type": "code",
   "execution_count": null,
   "id": "8f762c2a",
   "metadata": {},
   "outputs": [],
   "source": [
    "import numpy as np\n",
    "import pandas as pd"
   ]
  },
  {
   "cell_type": "markdown",
   "id": "cccb8510",
   "metadata": {},
   "source": [
    "Creating NaN values\n",
    "Let's create a numpy array and a pandas DataFrame containing NaN values."
   ]
  },
  {
   "cell_type": "code",
   "execution_count": null,
   "id": "dabec28f",
   "metadata": {},
   "outputs": [],
   "source": [
    "nan_array = np.array([1, 2, np.nan, 4, 5])\n",
    "nan_df = pd.DataFrame({\n",
    "    'A': [1, 2, np.nan, 4, 5],\n",
    "    'B': [np.nan, 2, 3, 4, 5]\n",
    "})\n",
    "nan_df"
   ]
  },
  {
   "cell_type": "markdown",
   "id": "6daba324",
   "metadata": {},
   "source": [
    "## Arithmetic Operations with NaN\n",
    "Now we can see how NaN values affect arithmetic operations. For example, if we try to calculate the mean of the numpy array, we will get a NaN result"
   ]
  },
  {
   "cell_type": "code",
   "execution_count": null,
   "id": "35b6503e",
   "metadata": {},
   "outputs": [],
   "source": [
    "print(\"Mean of numpy array:\", np.mean(nan_array))"
   ]
  },
  {
   "cell_type": "markdown",
   "id": "457ffbbc",
   "metadata": {},
   "source": [
    "This is because any arithmetic operation with NaN results in NaN. We can avoid this by using the np.nanmean function instead, which ignores NaN values"
   ]
  },
  {
   "cell_type": "code",
   "execution_count": null,
   "id": "d30d5c7c",
   "metadata": {},
   "outputs": [],
   "source": [
    "print(\"Mean of numpy array ignoring NaN:\", np.nanmean(nan_array))"
   ]
  },
  {
   "cell_type": "code",
   "execution_count": null,
   "id": "8960abc4",
   "metadata": {},
   "outputs": [],
   "source": [
    "assert np.nanmean(nan_array) == 3, 'np.nanmean did not work correctly!'"
   ]
  },
  {
   "cell_type": "markdown",
   "id": "de3a2e20",
   "metadata": {},
   "source": [
    "In pandas, the mean function automatically ignores NaN values"
   ]
  },
  {
   "cell_type": "code",
   "execution_count": null,
   "id": "b7a312b9",
   "metadata": {
    "tags": [
     "hide-cell"
    ]
   },
   "outputs": [],
   "source": [
    "print(\"Mean of pandas DataFrame columns:\\n\", nan_df.mean())"
   ]
  },
  {
   "cell_type": "markdown",
   "id": "8c66755f",
   "metadata": {},
   "source": [
    "Use `:tags: [remove-input, remove-output]` in a `{code-cell}` to include assert statements to make sure everything \n",
    "is working as expected.\n",
    "\n",
    "Let's say we want to render the following cell:\n",
    "\n",
    "```\n",
    "\\```{code-cell}\n",
    ":tags: [remove-input, remove-output]\n",
    "assert nan_df.mean().equals(pd.Series({'A': 3, 'B': 3.5})), 'pandas mean function did not work correctly!'\n",
    "\\```\n",
    "```\n",
    "\n",
    "start of the output"
   ]
  },
  {
   "cell_type": "code",
   "execution_count": null,
   "id": "766677f3",
   "metadata": {
    "tags": [
     "remove-input",
     "remove-output"
    ]
   },
   "outputs": [],
   "source": [
    "assert nan_df.mean().equals(pd.Series({'A': 3, 'B': 3.5})), 'pandas mean function did not work correctly!'"
   ]
  },
  {
   "cell_type": "markdown",
   "id": "f17e852f",
   "metadata": {},
   "source": [
    "end of the output\n",
    "\n",
    "Find out more how to `hide-` or `remove-´ output [here](https://myst-nb.readthedocs.io/en/latest/render/hiding.html#remove-parts-of-cells).\n",
    "\n",
    "Use `:tags: [raises-exception]` if you want to show an error on purpose. Any other Exception will stop the documentation\n",
    "build process, as we force to `nb_execution_raise_on_error = True` in the `conf.py`."
   ]
  },
  {
   "cell_type": "code",
   "execution_count": null,
   "id": "3135cfca",
   "metadata": {
    "tags": [
     "raises-exception"
    ]
   },
   "outputs": [],
   "source": [
    "raise ValueError(\"oopsie! \")"
   ]
  },
  {
   "cell_type": "markdown",
   "id": "693a07cf",
   "metadata": {},
   "source": [
    "## Conclusion\n",
    "\n",
    "In summary, handling NaN values is important when working with data in Python. NaN values can impact the results of arithmetic operations. Both numpy and pandas provide functions to handle NaN values effectively."
   ]
  }
 ],
 "metadata": {
  "jupytext": {
   "formats": "ipynb,md:myst"
  },
  "kernelspec": {
   "display_name": "Python 3",
   "language": "python",
   "name": "python3"
  },
  "mystnb": {
   "execution_timeout": 60
  }
 },
 "nbformat": 4,
 "nbformat_minor": 5
}
