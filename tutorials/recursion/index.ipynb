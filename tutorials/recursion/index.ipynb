{
 "cells": [
  {
   "cell_type": "code",
   "execution_count": 3,
   "id": "initial_id",
   "metadata": {
    "ExecuteTime": {
     "end_time": "2023-07-31T21:49:48.970180781Z",
     "start_time": "2023-07-31T21:49:48.958662754Z"
    },
    "collapsed": true
   },
   "outputs": [],
   "source": [
    "def f(x):\n",
    "    if x == 0:\n",
    "        return x\n",
    "    else:\n",
    "        return f(x-1)"
   ]
  },
  {
   "cell_type": "code",
   "execution_count": 4,
   "id": "cce39b90c36177fb",
   "metadata": {
    "ExecuteTime": {
     "end_time": "2023-07-31T21:49:50.726685798Z",
     "start_time": "2023-07-31T21:49:50.590687139Z"
    },
    "collapsed": false
   },
   "outputs": [
    {
     "data": {
      "text/plain": [
       "0"
      ]
     },
     "execution_count": 4,
     "metadata": {},
     "output_type": "execute_result"
    }
   ],
   "source": [
    "f(10) "
   ]
  },
  {
   "cell_type": "raw",
   "id": "a3ab9bcdb66acb2f",
   "metadata": {
    "collapsed": false
   },
   "source": [
    "This function always return 0 for positive Numbers. Can you guess what happens for negative numbers?"
   ]
  }
 ],
 "metadata": {
  "jupytext": {
   "formats": "ipynb,md:myst"
  },
  "kernelspec": {
   "display_name": "Python 3",
   "language": "python",
   "name": "python3"
  },
  "language_info": {
   "codemirror_mode": {
    "name": "ipython",
    "version": 2
   },
   "file_extension": ".py",
   "mimetype": "text/x-python",
   "name": "python",
   "nbconvert_exporter": "python",
   "pygments_lexer": "ipython2",
   "version": "2.7.6"
  }
 },
 "nbformat": 4,
 "nbformat_minor": 5
}
